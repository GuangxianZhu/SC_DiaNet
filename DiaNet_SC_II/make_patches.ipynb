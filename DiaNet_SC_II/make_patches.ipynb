{
 "cells": [
  {
   "cell_type": "markdown",
   "metadata": {},
   "source": [
    "# Offical data -> crop -> l2 norm(optional)"
   ]
  },
  {
   "cell_type": "code",
   "execution_count": 1,
   "metadata": {},
   "outputs": [],
   "source": [
    "from torchvision import datasets, transforms\n",
    "import numpy as np\n",
    "import torch\n",
    "import matplotlib.pyplot as plt\n",
    "import torch.nn.functional as F\n",
    "import os\n",
    "os.environ['KMP_DUPLICATE_LIB_OK'] = 'True'"
   ]
  },
  {
   "cell_type": "code",
   "execution_count": 36,
   "metadata": {},
   "outputs": [
    {
     "data": {
      "image/png": "[encoded data removed]",
      "text/plain": [
       "<Figure size 640x480 with 1 Axes>"
      ]
     },
     "metadata": {},
     "output_type": "display_data"
    }
   ],
   "source": [
    "# offical mnist\n",
    "mnist_offtrain = datasets.MNIST(root='./data', train=True, download=True)\n",
    "mnist_offtest = datasets.MNIST(root='./data', train=False, download=True)\n",
    "# to numpy\n",
    "train_images = mnist_offtrain.data.numpy()\n",
    "test_images = mnist_offtest.data.numpy()\n",
    "# crop 25x25 from 28x28\n",
    "train_images = train_images[:, 2:27, 2:27]\n",
    "test_images = test_images[:, 2:27, 2:27]\n",
    "# plot one to check\n",
    "# print(train_images[0])\n",
    "plt.imshow(train_images[0], cmap='gray')\n",
    "plt.show()\n",
    "# save to npy\n",
    "np.save('data/train_crop25.npy', train_images)\n",
    "np.save('data/test_crop25.npy', test_images)"
   ]
  },
  {
   "cell_type": "markdown",
   "metadata": {},
   "source": [
    "## L2 norm"
   ]
  },
  {
   "cell_type": "code",
   "execution_count": 46,
   "metadata": {},
   "outputs": [
    {
     "name": "stdout",
     "output_type": "stream",
     "text": [
      "tensor(1.0000)\n"
     ]
    },
    {
     "data": {
      "image/png": "[encoded data removed]",
      "text/plain": [
       "<Figure size 640x480 with 1 Axes>"
      ]
     },
     "metadata": {},
     "output_type": "display_data"
    }
   ],
   "source": [
    "# load np data, convert to tensor\n",
    "train_images = np.load('data/train_crop25.npy')\n",
    "test_images = np.load('data/test_crop25.npy')\n",
    "train_images = torch.from_numpy(train_images).float()\n",
    "test_images = torch.from_numpy(test_images).float()\n",
    "\n",
    "# L2 norm\n",
    "logg = True\n",
    "train_L2_imgs = []\n",
    "for i in range(train_images.shape[0]):\n",
    "    img = train_images[i].reshape(-1)\n",
    "    # L2 norm\n",
    "    img = F.normalize(img, p=2, dim=0)\n",
    "    if logg: \n",
    "        print(sum(img**2)) # check if L2 norm is 1\n",
    "        logg = False\n",
    "    train_L2_imgs.append(img.reshape(1, 25, 25))\n",
    "\n",
    "test_L2_imgs = []\n",
    "for i in range(test_images.shape[0]):\n",
    "    img = test_images[i].reshape(-1)\n",
    "    # L2 norm\n",
    "    img = F.normalize(img, p=2, dim=0)\n",
    "    # print(sum(img**2)) # check if L2 norm is 1\n",
    "    test_L2_imgs.append(img.reshape(1, 25, 25))\n",
    "\n",
    "train_L2_imgs = torch.cat(train_L2_imgs, dim=0)\n",
    "test_L2_imgs = torch.cat(test_L2_imgs, dim=0)\n",
    "\n",
    "# convert torch to numpy\n",
    "train_L2_imgs = train_L2_imgs.numpy()\n",
    "test_L2_imgs = test_L2_imgs.numpy()\n",
    "\n",
    "np.save('data/train_crop25_L2.npy', train_L2_imgs)\n",
    "np.save('data/test_crop25_L2.npy', test_L2_imgs)\n",
    "\n",
    "# plot a img form train_L2_imgs\n",
    "img = train_L2_imgs[0]\n",
    "img = np.reshape(img, (25, 25))\n",
    "plt.imshow(img, cmap='gray')\n",
    "plt.show()\n"
   ]
  },
  {
   "cell_type": "markdown",
   "metadata": {},
   "source": [
    "# L2, unfold 7*7"
   ]
  },
  {
   "cell_type": "code",
   "execution_count": 47,
   "metadata": {},
   "outputs": [
    {
     "name": "stdout",
     "output_type": "stream",
     "text": [
      "torch.Size([60000, 1, 25, 25]) torch.Size([10000, 1, 25, 25])\n"
     ]
    },
    {
     "data": {
      "image/png": "[encoded data removed]",
      "text/plain": [
       "<Figure size 500x500 with 49 Axes>"
      ]
     },
     "metadata": {},
     "output_type": "display_data"
    }
   ],
   "source": [
    "train_L2_imgs = np.load('data/train_crop25_L2.npy')\n",
    "test_L2_imgs = np.load('data/test_crop25_L2.npy')\n",
    "\n",
    "train_L2_tsr = torch.from_numpy(train_L2_imgs).unsqueeze(1)\n",
    "test_L2_tsr = torch.from_numpy(test_L2_imgs).unsqueeze(1)\n",
    "print(train_L2_tsr.shape, test_L2_tsr.shape) # 60000, 1, 25, 25\n",
    "\n",
    "# unfold each image, windows size = 7, stride = 3\n",
    "saved_train = []\n",
    "for i in range(train_L2_tsr.shape[0]):\n",
    "    patches = F.unfold(train_L2_tsr[i], kernel_size=7, stride=3)\n",
    "    patches = patches.permute(1, 0).unsqueeze(0)\n",
    "    # print(patches.shape) # 1, 49, 49\n",
    "    saved_train.append(patches)\n",
    "    \n",
    "    # plot the patch in subplots 7*7\n",
    "    if i == 0:\n",
    "        fig, axs = plt.subplots(7, 7, figsize=(5, 5))\n",
    "        for j in range(7):\n",
    "            for k in range(7):\n",
    "                img = patches[0, j*7+k, :].view(7, 7)\n",
    "                axs[j, k].imshow(img, cmap='gray')\n",
    "                axs[j, k].axis('off')\n",
    "\n",
    "saved_train = torch.cat(saved_train, dim=0)\n",
    "plt.show()\n",
    "\n",
    "saved_test = []\n",
    "for i in range(test_L2_tsr.shape[0]):\n",
    "    patches = F.unfold(test_L2_tsr[i], kernel_size=7, stride=3)\n",
    "    patches = patches.permute(1, 0).unsqueeze(0)\n",
    "    # print(patches.shape) # 1, 49, 49\n",
    "    saved_test.append(patches)\n",
    "\n",
    "saved_test = torch.cat(saved_test, dim=0)\n",
    "\n",
    "# convert to numpy\n",
    "saved_train = saved_train.numpy()\n",
    "saved_test = saved_test.numpy()\n",
    "\n",
    "np.save('data/train_crop25_L2_patches.npy', saved_train)\n",
    "np.save('data/test_crop25_L2_patches.npy', saved_test)"
   ]
  },
  {
   "cell_type": "code",
   "execution_count": 51,
   "metadata": {},
   "outputs": [
    {
     "data": {
      "image/png": "[encoded data removed]",
      "text/plain": [
       "<Figure size 500x500 with 49 Axes>"
      ]
     },
     "metadata": {},
     "output_type": "display_data"
    }
   ],
   "source": [
    "# load npy and plot to check\n",
    "saved_train = np.load('data/train_crop25_L2_patches.npy')\n",
    "saved_test = np.load('data/test_crop25_L2_patches.npy')\n",
    "\n",
    "# plot the patch in subplots 7*7\n",
    "fig, axs = plt.subplots(7, 7, figsize=(5, 5))\n",
    "for j in range(7):\n",
    "    for k in range(7):\n",
    "        img = saved_test[200, j*7+k, :].reshape(7, 7)\n",
    "        axs[j, k].imshow(img, cmap='gray')\n",
    "        axs[j, k].axis('off')\n",
    "plt.show()"
   ]
  },
  {
   "cell_type": "markdown",
   "metadata": {},
   "source": [
    "## no L2, 7*7_5*5"
   ]
  },
  {
   "cell_type": "code",
   "execution_count": 4,
   "metadata": {},
   "outputs": [
    {
     "name": "stdout",
     "output_type": "stream",
     "text": [
      "torch.Size([60000, 1, 25, 25]) torch.Size([10000, 1, 25, 25])\n"
     ]
    },
    {
     "data": {
      "image/png": "[encoded data removed]",
      "text/plain": [
       "<Figure size 500x500 with 49 Axes>"
      ]
     },
     "metadata": {},
     "output_type": "display_data"
    }
   ],
   "source": [
    "train_imgs = np.load('data/train_crop25.npy')\n",
    "test_imgs = np.load('data/test_crop25.npy')\n",
    "\n",
    "train_L2_tsr = torch.from_numpy(train_imgs).unsqueeze(1).float()\n",
    "test_L2_tsr = torch.from_numpy(test_imgs).unsqueeze(1).float()\n",
    "print(train_L2_tsr.shape, test_L2_tsr.shape) # 60000, 1, 25, 25\n",
    "\n",
    "# unfold each image, windows size = 5, stride = 3\n",
    "saved_train = []\n",
    "for i in range(train_L2_tsr.shape[0]):\n",
    "    patches = F.unfold(train_L2_tsr[i], kernel_size=5, stride=3)\n",
    "    patches = patches.permute(1, 0).unsqueeze(0)\n",
    "    # print(patches.shape) # 1, 49, 49\n",
    "    saved_train.append(patches)\n",
    "    \n",
    "    # plot the patch in subplots 7*7\n",
    "    if i == 0:\n",
    "        fig, axs = plt.subplots(7, 7, figsize=(5, 5))\n",
    "        for j in range(7):\n",
    "            for k in range(7):\n",
    "                img = patches[0, j*7+k, :].view(5,5)\n",
    "                axs[j, k].imshow(img, cmap='gray')\n",
    "                axs[j, k].axis('off')\n",
    "\n",
    "saved_train = torch.cat(saved_train, dim=0)\n",
    "plt.show()\n",
    "\n",
    "saved_test = []\n",
    "for i in range(test_L2_tsr.shape[0]):\n",
    "    patches = F.unfold(test_L2_tsr[i], kernel_size=5, stride=3)\n",
    "    patches = patches.permute(1, 0).unsqueeze(0)\n",
    "    # print(patches.shape) # 1, 49, 49\n",
    "    saved_test.append(patches)\n",
    "\n",
    "saved_test = torch.cat(saved_test, dim=0)\n",
    "\n",
    "# convert to numpy\n",
    "saved_train = saved_train.numpy()\n",
    "saved_test = saved_test.numpy()\n",
    "\n",
    "np.save('data/train_crop25_77_55.npy', saved_train)\n",
    "np.save('data/test_crop25_77_55.npy', saved_test)"
   ]
  },
  {
   "cell_type": "markdown",
   "metadata": {},
   "source": [
    "## L2 unfold 11*11, 25 patches"
   ]
  },
  {
   "cell_type": "code",
   "execution_count": 5,
   "metadata": {},
   "outputs": [
    {
     "name": "stdout",
     "output_type": "stream",
     "text": [
      "torch.Size([60000, 1, 25, 25]) torch.Size([10000, 1, 25, 25])\n"
     ]
    },
    {
     "data": {
      "image/png": "[encoded data removed]",
      "text/plain": [
       "<Figure size 500x500 with 121 Axes>"
      ]
     },
     "metadata": {},
     "output_type": "display_data"
    }
   ],
   "source": [
    "train_L2_imgs = np.load('data/train_crop25_L2.npy')\n",
    "test_L2_imgs = np.load('data/test_crop25_L2.npy')\n",
    "\n",
    "train_L2_tsr = torch.from_numpy(train_L2_imgs).unsqueeze(1)\n",
    "test_L2_tsr = torch.from_numpy(test_L2_imgs).unsqueeze(1)\n",
    "print(train_L2_tsr.shape, test_L2_tsr.shape) # 60000, 1, 25, 25\n",
    "\n",
    "# unfold each image, windows size = 5, stride = 2\n",
    "saved_train = []\n",
    "for i in range(train_L2_tsr.shape[0]):\n",
    "    patches = F.unfold(train_L2_tsr[i], kernel_size=5, stride=2)\n",
    "    patches = patches.permute(1, 0).unsqueeze(0)\n",
    "    # print(patches.shape) # 1, 121, 25 (11*11)\n",
    "    \n",
    "    saved_train.append(patches)\n",
    "    \n",
    "    # plot the patch in subplots 11*11\n",
    "    if i == 0:\n",
    "        fig, axs = plt.subplots(11, 11, figsize=(5, 5))\n",
    "        for j in range(11):\n",
    "            for k in range(11):\n",
    "                img = patches[0, j*11+k, :].view(5, 5)\n",
    "                axs[j, k].imshow(img, cmap='gray')\n",
    "                axs[j, k].axis('off')\n",
    "\n",
    "saved_train = torch.cat(saved_train, dim=0)\n",
    "plt.show()\n",
    "\n",
    "saved_test = []\n",
    "for i in range(test_L2_tsr.shape[0]):\n",
    "    patches = F.unfold(test_L2_tsr[i], kernel_size=5, stride=2)\n",
    "    patches = patches.permute(1, 0).unsqueeze(0)\n",
    "    # print(patches.shape) # 1, 49, 49\n",
    "    saved_test.append(patches)\n",
    "\n",
    "saved_test = torch.cat(saved_test, dim=0)\n",
    "\n",
    "# convert to numpy\n",
    "saved_train = saved_train.numpy()\n",
    "saved_test = saved_test.numpy()\n",
    "\n",
    "np.save('data/train_crop25_L2_121_25.npy', saved_train)\n",
    "np.save('data/test_crop25_L2_121_25.npy', saved_test)"
   ]
  },
  {
   "cell_type": "markdown",
   "metadata": {},
   "source": [
    "### 11_11 5*5 patches, no L2"
   ]
  },
  {
   "cell_type": "code",
   "execution_count": 3,
   "metadata": {},
   "outputs": [
    {
     "name": "stdout",
     "output_type": "stream",
     "text": [
      "torch.Size([60000, 1, 25, 25]) torch.Size([10000, 1, 25, 25])\n"
     ]
    },
    {
     "data": {
      "image/png": "[encoded data removed]",
      "text/plain": [
       "<Figure size 500x500 with 121 Axes>"
      ]
     },
     "metadata": {},
     "output_type": "display_data"
    }
   ],
   "source": [
    "train_imgs = np.load('data/train_crop25.npy')\n",
    "test_imgs = np.load('data/test_crop25.npy')\n",
    "\n",
    "train_tsr = torch.from_numpy(train_imgs).unsqueeze(1).float()\n",
    "test_tsr = torch.from_numpy(test_imgs).unsqueeze(1).float()\n",
    "print(train_tsr.shape, test_tsr.shape) # 60000, 1, 25, 25\n",
    "\n",
    "# unfold each image, windows size = 5, stride = 2\n",
    "saved_train = []\n",
    "for i in range(train_tsr.shape[0]):\n",
    "    patches = F.unfold(train_tsr[i], kernel_size=5, stride=2)\n",
    "    patches = patches.permute(1, 0).unsqueeze(0)\n",
    "    # print(patches.shape) # 1, 121, 25 (11*11)\n",
    "    \n",
    "    saved_train.append(patches)\n",
    "    \n",
    "    # plot the patch in subplots 11*11\n",
    "    if i == 0:\n",
    "        fig, axs = plt.subplots(11, 11, figsize=(5, 5))\n",
    "        for j in range(11):\n",
    "            for k in range(11):\n",
    "                img = patches[0, j*11+k, :].view(5, 5)\n",
    "                axs[j, k].imshow(img, cmap='gray')\n",
    "                axs[j, k].axis('off')\n",
    "\n",
    "saved_train = torch.cat(saved_train, dim=0)\n",
    "plt.show()\n",
    "\n",
    "saved_test = []\n",
    "for i in range(test_tsr.shape[0]):\n",
    "    patches = F.unfold(test_tsr[i], kernel_size=5, stride=2)\n",
    "    patches = patches.permute(1, 0).unsqueeze(0)\n",
    "    # print(patches.shape) # 1, 49, 49\n",
    "    saved_test.append(patches)\n",
    "\n",
    "saved_test = torch.cat(saved_test, dim=0)\n",
    "\n",
    "# convert to numpy\n",
    "saved_train = saved_train.numpy()\n",
    "saved_test = saved_test.numpy()\n",
    "\n",
    "np.save('data/train_crop25_121_25.npy', saved_train)\n",
    "np.save('data/test_crop25_121_25.npy', saved_test)"
   ]
  },
  {
   "cell_type": "markdown",
   "metadata": {},
   "source": [
    "## add some rotations"
   ]
  },
  {
   "cell_type": "code",
   "execution_count": 4,
   "metadata": {},
   "outputs": [
    {
     "name": "stdout",
     "output_type": "stream",
     "text": [
      "torch.Size([70000, 1, 25, 25]) torch.Size([10000, 1, 25, 25])\n"
     ]
    },
    {
     "data": {
      "image/png": "[encoded data removed]",
      "text/plain": [
       "<Figure size 500x500 with 121 Axes>"
      ]
     },
     "metadata": {},
     "output_type": "display_data"
    }
   ],
   "source": [
    "import numpy as np\n",
    "from scipy.ndimage import rotate\n",
    "\n",
    "def random_rotate(image, angle_range=(-10, 10)):\n",
    "    \"\"\"\n",
    "    Rotate an image by a random angle within a given range.\n",
    "\n",
    "    Parameters:\n",
    "    - image: 2D numpy array representing the image.\n",
    "    - angle_range: tuple of (min, max) angles in degrees. Default is (-5, 5).\n",
    "\n",
    "    Returns:\n",
    "    - Rotated image.\n",
    "    \"\"\"\n",
    "    angle = np.random.uniform(angle_range[0], angle_range[1])\n",
    "    return rotate(image, angle, mode='reflect', reshape=False)\n",
    "\n",
    "# Load the datasets\n",
    "train_imgs = np.load('data/train_crop25.npy')\n",
    "test_imgs = np.load('data/test_crop25.npy')\n",
    "\n",
    "# Apply random rotations to the training images\n",
    "augmented_tst_imgs = np.array([random_rotate(img) for img in test_imgs])\n",
    "\n",
    "###########################################################################\n",
    "train_tsr = torch.from_numpy(train_imgs).unsqueeze(1).float()\n",
    "train_enhance_tsr = torch.from_numpy(augmented_tst_imgs).unsqueeze(1).float()\n",
    "train_tsr = torch.cat((train_tsr, train_enhance_tsr), dim=0)\n",
    "test_tsr = torch.from_numpy(test_imgs).unsqueeze(1).float()\n",
    "print(train_tsr.shape, test_tsr.shape)\n",
    "\n",
    "# unfold each image, windows size = 5, stride = 2\n",
    "saved_train = []\n",
    "for i in range(train_tsr.shape[0]):\n",
    "    patches = F.unfold(train_tsr[i], kernel_size=5, stride=2)\n",
    "    patches = patches.permute(1, 0).unsqueeze(0)\n",
    "    # print(patches.shape) # 1, 121, 25 (11*11)\n",
    "    \n",
    "    saved_train.append(patches)\n",
    "    \n",
    "    # plot the patch in subplots 11*11\n",
    "    if i == 0:\n",
    "        fig, axs = plt.subplots(11, 11, figsize=(5, 5))\n",
    "        for j in range(11):\n",
    "            for k in range(11):\n",
    "                img = patches[0, j*11+k, :].view(5, 5)\n",
    "                axs[j, k].imshow(img, cmap='gray')\n",
    "                axs[j, k].axis('off')\n",
    "\n",
    "saved_train = torch.cat(saved_train, dim=0)\n",
    "plt.show()\n",
    "\n",
    "# convert to numpy\n",
    "saved_train = saved_train.numpy()\n",
    "\n",
    "np.save('data/train_crop25_121_25_rot.npy', saved_train)\n"
   ]
  }
 ],
 "metadata": {
  "kernelspec": {
   "display_name": "CondaPy39",
   "language": "python",
   "name": "python3"
  },
  "language_info": {
   "codemirror_mode": {
    "name": "ipython",
    "version": 3
   },
   "file_extension": ".py",
   "mimetype": "text/x-python",
   "name": "python",
   "nbconvert_exporter": "python",
   "pygments_lexer": "ipython3",
   "version": "3.9.16"
  },
  "orig_nbformat": 4
 },
 "nbformat": 4,
 "nbformat_minor": 2
}
