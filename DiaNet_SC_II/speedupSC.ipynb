{
 "cells": [
  {
   "cell_type": "code",
   "execution_count": 2,
   "metadata": {},
   "outputs": [],
   "source": [
    "import numpy as np\n",
    "import time"
   ]
  },
  {
   "cell_type": "code",
   "execution_count": 34,
   "metadata": {},
   "outputs": [
    {
     "name": "stdout",
     "output_type": "stream",
     "text": [
      "[1 0 0 1 1 1 0 1 0 0]\n",
      "0.0\n",
      "SNG_10_matrix use :0.031011104583740234 seconds\n",
      "0.0\n",
      "[0 0 0 0 0 1 1 1 0 1]\n",
      "0.0\n",
      "SNG_10_matrix use :0.03100442886352539 seconds\n",
      "0.0\n",
      "[1 0 0 0 0 1 1 1 1 0]\n",
      "0.0\n",
      "SNG_10_matrix use :0.030996084213256836 seconds\n",
      "0.0\n",
      "[1 0 0 1 1 0 1 1 1 1]\n",
      "0.0\n",
      "SNG_10_matrix use :0.030001163482666016 seconds\n",
      "0.0\n",
      "[1 1 0 1 0 1 0 1 0 0]\n",
      "0.0\n",
      "SNG_10_matrix use :0.03000020980834961 seconds\n",
      "-0.001953125\n",
      "[1 0 1 0 1 0 1 1 0 0]\n",
      "0.0\n",
      "SNG_10_matrix use :0.0299990177154541 seconds\n",
      "0.0\n",
      "[0 1 0 1 1 0 1 0 0 1]\n",
      "0.0\n",
      "SNG_10_matrix use :0.0310366153717041 seconds\n",
      "-0.001953125\n",
      "[0 1 0 1 0 1 0 1 1 1]\n",
      "0.0\n",
      "SNG_10_matrix use :0.03296661376953125 seconds\n",
      "-0.001953125\n",
      "[0 1 0 0 1 0 0 0 1 0]\n",
      "0.0\n",
      "SNG_10_matrix use :0.03168058395385742 seconds\n",
      "-0.001953125\n",
      "[1 0 0 1 0 0 1 0 1 0]\n",
      "0.0\n",
      "SNG_10_matrix use :0.03095555305480957 seconds\n",
      "0.0\n"
     ]
    }
   ],
   "source": [
    "def SNG_10(seed: int, target: float,\n",
    "        bitstream_length=1024, bit1=7, bit2=10, isprint=False):\n",
    "\n",
    "    # check the seed in range (0-1023)\n",
    "    assert seed > 0 and seed < 1023, \"seed should be in range (0-1023)\"\n",
    "    # check the target in range (-1, 1)\n",
    "    assert target >= -1 and target <= 1, \"target should be in range (-1, 1)\"\n",
    "    \n",
    "    # convert seed to binary\n",
    "    seed_bin_str = format(seed, '010b')\n",
    "    seed = np.array([int(i) for i in seed_bin_str])\n",
    "\n",
    "    # convert target to unipolar\n",
    "    target = (target + 1) / 2 # (-1, 1) -> (0, 1)\n",
    "    target_10 = target * 1023\n",
    "\n",
    "    lfsr = seed.copy()\n",
    "    output_stream = np.zeros(bitstream_length)\n",
    "\n",
    "    # do xor on bit1 and bit2\n",
    "    for i in range(bitstream_length):\n",
    "        xorbit = lfsr[10-bit1] ^ lfsr[10-bit2]  # xor on bit7 and bit10\n",
    "        lfsr = np.roll(lfsr, -1)                # shift left\n",
    "        lfsr[9] = xorbit                        # set xorbit to bit0\n",
    "        lfsr_val = int(''.join([str(i) for i in lfsr]), 2) # array->binary->int\n",
    "        if isprint: print(lfsr_val)\n",
    "        if lfsr_val <= target_10:\n",
    "            output_stream[i] = 1\n",
    "        else:\n",
    "            output_stream[i] = 0\n",
    "\n",
    "    return output_stream\n",
    "\n",
    "def SNG_10_matrix(seed_matrix: np.array, target_matrix: np.array,\n",
    "                  bitstream_length=1024, bit1=7, bit2=10, isprint=False):\n",
    "\n",
    "    lfsr_matrix = seed_matrix.copy()\n",
    "    target_matrix = (target_matrix + 1) / 2 * 1023\n",
    "\n",
    "    output_stream_matrix = np.zeros((seed_matrix.shape[0], seed_matrix.shape[1], bitstream_length), dtype=np.int8)\n",
    "\n",
    "    # Create weights matrix to convert binary matrix to integers\n",
    "    weights = np.array([2**i for i in reversed(range(seed_matrix.shape[2]))])\n",
    "    # if isprint: print('weights: \\n',weights) # [512 256 128  64  32  16   8   4   2   1]\n",
    "\n",
    "    for i in range(bitstream_length):\n",
    "        xorbits = lfsr_matrix[:,:, 10-bit1] ^ lfsr_matrix[:,:, 10-bit2]\n",
    "        lfsr_matrix = np.roll(lfsr_matrix, -1, axis=2)\n",
    "        lfsr_matrix[:,:, 9] = xorbits\n",
    "\n",
    "        # Matrix multiplication to get integer values\n",
    "        lfsr_values = (lfsr_matrix * weights).sum(axis=2)\n",
    "\n",
    "        if isprint: print(lfsr_values)\n",
    "        \n",
    "        # Set output_stream_matrix values based on the condition\n",
    "        output_stream_matrix[:,:, i] = (lfsr_values <= target_matrix).astype(np.int8)\n",
    "\n",
    "    return output_stream_matrix\n",
    "\n",
    "\n",
    "def test_methods():\n",
    "    \n",
    "    seed_matrix = np.random.randint(0, 2, (28, 28, 10))\n",
    "    target_matrix = np.random.uniform(0, 1, (28, 28))\n",
    "    print(seed_matrix[0,0,:])\n",
    "    print(target_matrix[0,0])\n",
    "\n",
    "    start = time.time()\n",
    "    SC_ = SNG_10_matrix(seed_matrix, target_matrix, isprint=False)\n",
    "    end = time.time()\n",
    "    print('SNG_10_matrix use :{} seconds'.format(end-start))\n",
    "    print((SC_[0,0,:]).mean()*2-1)\n",
    "\n",
    "for i in range(10):\n",
    "    test_methods()\n",
    "\n"
   ]
  },
  {
   "cell_type": "code",
   "execution_count": 23,
   "metadata": {},
   "outputs": [
    {
     "data": {
      "text/plain": [
       "38.5"
      ]
     },
     "execution_count": 23,
     "metadata": {},
     "output_type": "execute_result"
    }
   ],
   "source": [
    "0.033 * 70000 / 60 # 38.5 minutes"
   ]
  }
 ],
 "metadata": {
  "kernelspec": {
   "display_name": "CondaPy39",
   "language": "python",
   "name": "python3"
  },
  "language_info": {
   "codemirror_mode": {
    "name": "ipython",
    "version": 3
   },
   "file_extension": ".py",
   "mimetype": "text/x-python",
   "name": "python",
   "nbconvert_exporter": "python",
   "pygments_lexer": "ipython3",
   "version": "3.9.16"
  },
  "orig_nbformat": 4
 },
 "nbformat": 4,
 "nbformat_minor": 2
}
